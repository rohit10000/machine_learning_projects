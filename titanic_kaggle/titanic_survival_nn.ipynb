{
 "cells": [
  {
   "cell_type": "markdown",
   "metadata": {},
   "source": [
    "# Titanic_survival using nn"
   ]
  },
  {
   "cell_type": "code",
   "execution_count": 173,
   "metadata": {},
   "outputs": [],
   "source": [
    "#from sklearn.model_selection import cross_validation\n",
    "import numpy as np\n",
    "from sklearn import svm\n",
    "from sklearn.metrics import accuracy_score\n",
    "import pandas as pd \n",
    "from sklearn.feature_selection import SelectPercentile, f_classif\n",
    "from sklearn.feature_selection import SelectKBest\n",
    "from sklearn.feature_selection import chi2\n",
    "from sklearn.model_selection import GridSearchCV\n",
    "from sklearn.tree import DecisionTreeClassifier\n",
    "import pickle\n",
    "import matplotlib.pyplot as plt\n",
    "\n",
    "import tensorflow as tf\n",
    "from tensorflow.python.keras.models import Sequential\n",
    "from tensorflow.python.keras.layers import Dense\n",
    "from sklearn.preprocessing import MinMaxScaler"
   ]
  },
  {
   "cell_type": "code",
   "execution_count": 12,
   "metadata": {},
   "outputs": [],
   "source": [
    "train_data = pd.read_csv(\"./Music/machine_learning_projects/titanic_kaggle/train.csv\")"
   ]
  },
  {
   "cell_type": "code",
   "execution_count": 13,
   "metadata": {},
   "outputs": [
    {
     "data": {
      "text/plain": [
       "Index(['PassengerId', 'Survived', 'Pclass', 'Name', 'Sex', 'Age', 'SibSp',\n",
       "       'Parch', 'Ticket', 'Fare', 'Cabin', 'Embarked'],\n",
       "      dtype='object')"
      ]
     },
     "execution_count": 13,
     "metadata": {},
     "output_type": "execute_result"
    }
   ],
   "source": [
    "train_data.columns"
   ]
  },
  {
   "cell_type": "code",
   "execution_count": 17,
   "metadata": {},
   "outputs": [
    {
     "name": "stderr",
     "output_type": "stream",
     "text": [
      "c:\\python 3.5\\lib\\site-packages\\ipykernel_launcher.py:2: SettingWithCopyWarning: \n",
      "A value is trying to be set on a copy of a slice from a DataFrame\n",
      "\n",
      "See the caveats in the documentation: http://pandas.pydata.org/pandas-docs/stable/indexing.html#indexing-view-versus-copy\n",
      "  \n"
     ]
    }
   ],
   "source": [
    "titanic_train_data['child'] = 1\n",
    "titanic_train_data['child'][titanic_train_data['Age'] >= 18] = 0\n",
    "titanic_train_data['no_of_family_members'] = titanic_train_data['SibSp'] + titanic_train_data[ 'Parch']\n",
    "titanic_train_data = titanic_train_data.drop(columns = [\"Name\",\"Ticket\",\"Cabin\",\"PassengerId\",\"Age\",\"SibSp\",\"Parch\"])"
   ]
  },
  {
   "cell_type": "code",
   "execution_count": 30,
   "metadata": {},
   "outputs": [],
   "source": [
    "titanic_train_data = titanic_train_data.replace(\"female\", 1)\n",
    "titanic_train_data = titanic_train_data.replace(\"male\", 0)\n",
    "titanic_train_data = titanic_train_data.replace(\"S\", 0)\n",
    "titanic_train_data = titanic_train_data.replace(\"Q\", 1)\n",
    "titanic_train_data = titanic_train_data.replace(\"C\", 2)\n",
    "titanic_train_data[\"Fare\"] = titanic_train_data[\"Fare\"].astype('int32')\n",
    "titanic_train_data=titanic_train_data.dropna();"
   ]
  },
  {
   "cell_type": "code",
   "execution_count": 140,
   "metadata": {},
   "outputs": [
    {
     "data": {
      "text/html": [
       "<div>\n",
       "<style scoped>\n",
       "    .dataframe tbody tr th:only-of-type {\n",
       "        vertical-align: middle;\n",
       "    }\n",
       "\n",
       "    .dataframe tbody tr th {\n",
       "        vertical-align: top;\n",
       "    }\n",
       "\n",
       "    .dataframe thead th {\n",
       "        text-align: right;\n",
       "    }\n",
       "</style>\n",
       "<table border=\"1\" class=\"dataframe\">\n",
       "  <thead>\n",
       "    <tr style=\"text-align: right;\">\n",
       "      <th></th>\n",
       "      <th>Survived</th>\n",
       "    </tr>\n",
       "  </thead>\n",
       "  <tbody>\n",
       "    <tr>\n",
       "      <th>0</th>\n",
       "      <td>0</td>\n",
       "    </tr>\n",
       "    <tr>\n",
       "      <th>1</th>\n",
       "      <td>1</td>\n",
       "    </tr>\n",
       "    <tr>\n",
       "      <th>2</th>\n",
       "      <td>1</td>\n",
       "    </tr>\n",
       "    <tr>\n",
       "      <th>3</th>\n",
       "      <td>1</td>\n",
       "    </tr>\n",
       "    <tr>\n",
       "      <th>4</th>\n",
       "      <td>0</td>\n",
       "    </tr>\n",
       "    <tr>\n",
       "      <th>5</th>\n",
       "      <td>0</td>\n",
       "    </tr>\n",
       "    <tr>\n",
       "      <th>6</th>\n",
       "      <td>0</td>\n",
       "    </tr>\n",
       "    <tr>\n",
       "      <th>7</th>\n",
       "      <td>0</td>\n",
       "    </tr>\n",
       "    <tr>\n",
       "      <th>8</th>\n",
       "      <td>1</td>\n",
       "    </tr>\n",
       "    <tr>\n",
       "      <th>9</th>\n",
       "      <td>1</td>\n",
       "    </tr>\n",
       "  </tbody>\n",
       "</table>\n",
       "</div>"
      ],
      "text/plain": [
       "   Survived\n",
       "0         0\n",
       "1         1\n",
       "2         1\n",
       "3         1\n",
       "4         0\n",
       "5         0\n",
       "6         0\n",
       "7         0\n",
       "8         1\n",
       "9         1"
      ]
     },
     "execution_count": 140,
     "metadata": {},
     "output_type": "execute_result"
    }
   ],
   "source": [
    "features = titanic_train_data.iloc[:,1:]\n",
    "labels = titanic_train_data.iloc[:,0:1]\n",
    "features.head(10)\n",
    "labels.head(10)"
   ]
  },
  {
   "cell_type": "code",
   "execution_count": 141,
   "metadata": {},
   "outputs": [
    {
     "name": "stderr",
     "output_type": "stream",
     "text": [
      "c:\\python 3.5\\lib\\site-packages\\sklearn\\preprocessing\\data.py:323: DataConversionWarning: Data with input dtype int32, int64, float64 were all converted to float64 by MinMaxScaler.\n",
      "  return self.partial_fit(X, y)\n",
      "c:\\python 3.5\\lib\\site-packages\\sklearn\\preprocessing\\data.py:323: DataConversionWarning: Data with input dtype int64 were all converted to float64 by MinMaxScaler.\n",
      "  return self.partial_fit(X, y)\n"
     ]
    }
   ],
   "source": [
    "scaler = MinMaxScaler()\n",
    "features = scaler.fit_transform(features)\n",
    "labels = scaler.fit_transform(labels)"
   ]
  },
  {
   "cell_type": "code",
   "execution_count": 142,
   "metadata": {},
   "outputs": [],
   "source": [
    "X_train = features[:790, :]\n",
    "Y_train = labels[:790, :]\n",
    "X_test = features[790:, :]\n",
    "Y_test = labels[790:, :]"
   ]
  },
  {
   "cell_type": "code",
   "execution_count": 195,
   "metadata": {},
   "outputs": [],
   "source": [
    "scaler = MinMaxScaler()\n",
    "X_train = scaler.fit_transform(X_train)"
   ]
  },
  {
   "cell_type": "code",
   "execution_count": 196,
   "metadata": {},
   "outputs": [],
   "source": [
    "model = Sequential()\n",
    "model.add(Dense(16, input_shape = (6,), activation='relu'))\n",
    "model.add(Dense(32, activation = 'relu'))\n",
    "model.add(Dense(32, activation = 'relu'))\n",
    "model.add(Dense(32, activation = 'relu'))\n",
    "model.add(Dense(16, activation = 'relu'))\n",
    "model.add(Dense(2,activation='softmax'))"
   ]
  },
  {
   "cell_type": "code",
   "execution_count": 197,
   "metadata": {},
   "outputs": [],
   "source": [
    "model.compile(loss = \"sparse_categorical_crossentropy\", metrics = [\"accuracy\"], optimizer = \"adam\")"
   ]
  },
  {
   "cell_type": "code",
   "execution_count": 198,
   "metadata": {},
   "outputs": [
    {
     "name": "stdout",
     "output_type": "stream",
     "text": [
      "Train on 711 samples, validate on 79 samples\n",
      "Epoch 1/20\n",
      " - 4s - loss: 0.6334 - acc: 0.6231 - val_loss: 0.5088 - val_acc: 0.7975\n",
      "Epoch 2/20\n",
      " - 0s - loss: 0.5118 - acc: 0.7834 - val_loss: 0.4001 - val_acc: 0.8354\n",
      "Epoch 3/20\n",
      " - 0s - loss: 0.4641 - acc: 0.7947 - val_loss: 0.3808 - val_acc: 0.8481\n",
      "Epoch 4/20\n",
      " - 0s - loss: 0.4532 - acc: 0.8017 - val_loss: 0.3763 - val_acc: 0.8481\n",
      "Epoch 5/20\n",
      " - 0s - loss: 0.4492 - acc: 0.8017 - val_loss: 0.3745 - val_acc: 0.8354\n",
      "Epoch 6/20\n",
      " - 0s - loss: 0.4468 - acc: 0.7989 - val_loss: 0.3737 - val_acc: 0.8354\n",
      "Epoch 7/20\n",
      " - 0s - loss: 0.4452 - acc: 0.8003 - val_loss: 0.3726 - val_acc: 0.8354\n",
      "Epoch 8/20\n",
      " - 0s - loss: 0.4440 - acc: 0.8003 - val_loss: 0.3719 - val_acc: 0.8354\n",
      "Epoch 9/20\n",
      " - 0s - loss: 0.4430 - acc: 0.8003 - val_loss: 0.3714 - val_acc: 0.8354\n",
      "Epoch 10/20\n",
      " - 0s - loss: 0.4422 - acc: 0.8017 - val_loss: 0.3708 - val_acc: 0.8608\n",
      "Epoch 11/20\n",
      " - 0s - loss: 0.4415 - acc: 0.8031 - val_loss: 0.3689 - val_acc: 0.8608\n",
      "Epoch 12/20\n",
      " - 0s - loss: 0.4417 - acc: 0.7989 - val_loss: 0.3685 - val_acc: 0.8608\n",
      "Epoch 13/20\n",
      " - 0s - loss: 0.4408 - acc: 0.8017 - val_loss: 0.3667 - val_acc: 0.8608\n",
      "Epoch 14/20\n",
      " - 0s - loss: 0.4407 - acc: 0.7989 - val_loss: 0.3663 - val_acc: 0.8608\n",
      "Epoch 15/20\n",
      " - 0s - loss: 0.4396 - acc: 0.8003 - val_loss: 0.3664 - val_acc: 0.8608\n",
      "Epoch 16/20\n",
      " - 0s - loss: 0.4390 - acc: 0.8017 - val_loss: 0.3652 - val_acc: 0.8608\n",
      "Epoch 17/20\n",
      " - 0s - loss: 0.4385 - acc: 0.8031 - val_loss: 0.3641 - val_acc: 0.8608\n",
      "Epoch 18/20\n",
      " - 0s - loss: 0.4385 - acc: 0.8045 - val_loss: 0.3626 - val_acc: 0.8608\n",
      "Epoch 19/20\n",
      " - 0s - loss: 0.4376 - acc: 0.8045 - val_loss: 0.3618 - val_acc: 0.8608\n",
      "Epoch 20/20\n",
      " - 0s - loss: 0.4370 - acc: 0.8059 - val_loss: 0.3607 - val_acc: 0.8608\n"
     ]
    },
    {
     "data": {
      "text/plain": [
       "<tensorflow.python.keras._impl.keras.callbacks.History at 0x93dcd312e8>"
      ]
     },
     "execution_count": 198,
     "metadata": {},
     "output_type": "execute_result"
    }
   ],
   "source": [
    "model.fit(X_train, Y_train, batch_size = 10, epochs= 20, shuffle = False, verbose = 2, validation_split = 0.1)"
   ]
  },
  {
   "cell_type": "code",
   "execution_count": 203,
   "metadata": {},
   "outputs": [
    {
     "name": "stdout",
     "output_type": "stream",
     "text": [
      "Accuracy: 0.8181818181818182\n"
     ]
    }
   ],
   "source": [
    "pred = model.predict(X_test, batch_size = 10, verbose = 0)\n",
    "pred = np.argmax(pred, axis =1)\n",
    "print(\"Accuracy:\", accuracy_score(Y_test, pred))"
   ]
  }
 ],
 "metadata": {
  "kernelspec": {
   "display_name": "Python 3",
   "language": "python",
   "name": "python3"
  },
  "language_info": {
   "codemirror_mode": {
    "name": "ipython",
    "version": 3
   },
   "file_extension": ".py",
   "mimetype": "text/x-python",
   "name": "python",
   "nbconvert_exporter": "python",
   "pygments_lexer": "ipython3",
   "version": "3.5.0"
  }
 },
 "nbformat": 4,
 "nbformat_minor": 2
}
