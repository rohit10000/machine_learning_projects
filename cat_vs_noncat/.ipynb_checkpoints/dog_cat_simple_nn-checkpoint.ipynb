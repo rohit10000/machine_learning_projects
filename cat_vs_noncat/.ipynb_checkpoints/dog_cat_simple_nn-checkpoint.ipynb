{
 "cells": [
  {
   "cell_type": "markdown",
   "metadata": {},
   "source": [
    "# Cat_vs_noncat classification with sigmoid function"
   ]
  },
  {
   "cell_type": "markdown",
   "metadata": {},
   "source": [
    "<b><i>Importing python libraries</i></b>"
   ]
  },
  {
   "cell_type": "markdown",
   "metadata": {},
   "source": [
    "import numpy as np\n",
    "import matplotlib.pyplot as plt\n",
    "import h5py\n",
    "import scipy\n",
    "from PIL import Image\n",
    "from scipy import ndimage\n",
    "from random import shuffle\n",
    "from tqdm import tqdm\n",
    "import os\n",
    "import cv2\n",
    "from sklearn.metrics import accuracy_score"
   ]
  },
  {
   "cell_type": "markdown",
   "metadata": {},
   "source": [
    "<b><i>Preprocessing step:</i></b>"
   ]
  },
  {
   "cell_type": "markdown",
   "metadata": {},
   "source": [
    "Loading the already stored images from **train_data.npy** to **train_data** variable."
   ]
  },
  {
   "cell_type": "code",
   "execution_count": 4,
   "metadata": {},
   "outputs": [],
   "source": [
    "train_data = np.load('./Music/train_data.npy')"
   ]
  },
  {
   "cell_type": "markdown",
   "metadata": {},
   "source": [
    "Checking for a single image shape in the dataset, which is of the dimention (50, 50)."
   ]
  },
  {
   "cell_type": "code",
   "execution_count": 55,
   "metadata": {},
   "outputs": [
    {
     "data": {
      "text/plain": [
       "(50, 50)"
      ]
     },
     "execution_count": 55,
     "metadata": {},
     "output_type": "execute_result"
    }
   ],
   "source": [
    "train_data.shape\n",
    "train_data[1][0].shape"
   ]
  },
  {
   "cell_type": "code",
   "execution_count": 62,
   "metadata": {},
   "outputs": [
    {
     "data": {
      "text/plain": [
       "array([array([0, 1]), array([0, 1]), array([0, 1]), array([0, 1]),\n",
       "       array([1, 0]), array([0, 1]), array([0, 1]), array([1, 0]),\n",
       "       array([1, 0]), array([0, 1])], dtype=object)"
      ]
     },
     "execution_count": 62,
     "metadata": {},
     "output_type": "execute_result"
    }
   ],
   "source": [
    "features = np.zeros((2500, 1))\n",
    "labels = []\n",
    "images =train_data[:10, 1]\n",
    "images"
   ]
  },
  {
   "cell_type": "code",
   "execution_count": 64,
   "metadata": {},
   "outputs": [
    {
     "name": "stdout",
     "output_type": "stream",
     "text": [
      "iteration  0 completed.\n",
      "iteration  1000 completed.\n",
      "iteration  2000 completed.\n",
      "iteration  3000 completed.\n",
      "iteration  4000 completed.\n",
      "iteration  5000 completed.\n",
      "iteration  6000 completed.\n",
      "iteration  7000 completed.\n",
      "iteration  8000 completed.\n",
      "iteration  9000 completed.\n",
      "iteration  10000 completed.\n",
      "iteration  11000 completed.\n",
      "iteration  12000 completed.\n",
      "iteration  13000 completed.\n",
      "iteration  14000 completed.\n",
      "iteration  15000 completed.\n",
      "iteration  16000 completed.\n",
      "iteration  17000 completed.\n",
      "iteration  18000 completed.\n",
      "iteration  19000 completed.\n",
      "iteration  20000 completed.\n",
      "iteration  21000 completed.\n",
      "iteration  22000 completed.\n",
      "iteration  23000 completed.\n",
      "iteration  24000 completed.\n"
     ]
    },
    {
     "data": {
      "text/plain": [
       "(2500, 25001)"
      ]
     },
     "execution_count": 64,
     "metadata": {},
     "output_type": "execute_result"
    }
   ],
   "source": [
    "features = np.zeros((2500, 1))\n",
    "labels = []\n",
    "for i in range(train_data.shape[0]):\n",
    "    img_tmp = train_data[i][0].reshape((2500, 1))\n",
    "    label_tmp = train_data[i][1][0]\n",
    "    features = np.concatenate((features, img_tmp), axis =1)\n",
    "    labels.append(label_tmp)\n",
    "    if i%1000 == 0:\n",
    "        print(\"iteration \", i, \"completed.\")\n",
    "features.shape\n"
   ]
  },
  {
   "cell_type": "code",
   "execution_count": 77,
   "metadata": {},
   "outputs": [],
   "source": [
    "features = features[:,1:]\n",
    "np.save('images_dog_vs_cat_25000', features)\n",
    "np.save('labels_dog_vs_cat_25000', labels)"
   ]
  },
  {
   "cell_type": "code",
   "execution_count": 6,
   "metadata": {},
   "outputs": [],
   "source": [
    "train_data = np.load('C:/Users/Rohit/Music/machine_learning_projects/cat_vs_noncat/images_dog_vs_cat_25000.npy')\n",
    "labels = np.load('C:/Users/Rohit/Music/machine_learning_projects/cat_vs_noncat/labels_dog_vs_cat_25000.npy')\n",
    "labels = np.array(labels).reshape((-1, 1))"
   ]
  },
  {
   "cell_type": "code",
   "execution_count": 24,
   "metadata": {},
   "outputs": [
    {
     "name": "stdout",
     "output_type": "stream",
     "text": [
      "(2500, 25000)\n",
      "(25000, 1)\n"
     ]
    }
   ],
   "source": [
    "print(train_data.shape)\n",
    "print(labels.shape)"
   ]
  },
  {
   "cell_type": "code",
   "execution_count": 25,
   "metadata": {},
   "outputs": [],
   "source": [
    "train_data = train_data/255"
   ]
  },
  {
   "cell_type": "code",
   "execution_count": 26,
   "metadata": {
    "scrolled": true
   },
   "outputs": [
    {
     "name": "stdout",
     "output_type": "stream",
     "text": [
      "(2500, 15000)\n"
     ]
    }
   ],
   "source": [
    "X = train_data[:,:15000]\n",
    "Y = labels[:15000,:]\n",
    "X_test = train_data[:, 15000:]\n",
    "Y_test = labels[15000:, :]\n",
    "print(X.shape)"
   ]
  },
  {
   "cell_type": "markdown",
   "metadata": {},
   "source": [
    "<b><i>Initialization of parameters. </i></b>"
   ]
  },
  {
   "cell_type": "code",
   "execution_count": 10,
   "metadata": {},
   "outputs": [],
   "source": [
    "w = np.zeros((train_data.shape[0], 1))\n",
    "b = 0"
   ]
  },
  {
   "cell_type": "code",
   "execution_count": 11,
   "metadata": {},
   "outputs": [],
   "source": [
    "def sigmoid(z):\n",
    "\n",
    "\ts = 1/(1 + np.exp(-z.astype(float)))\n",
    "\n",
    "\treturn s"
   ]
  },
  {
   "cell_type": "markdown",
   "metadata": {},
   "source": [
    "<b><i>Gradient calculation using Forward and Backward Propagation</i></b>\n",
    "\n",
    "<img src=\"./images/fig2.png\" style=\"height:250px;width:400px;\">"
   ]
  },
  {
   "cell_type": "code",
   "execution_count": 12,
   "metadata": {},
   "outputs": [],
   "source": [
    "def propagate(w, b, X, Y):\n",
    "\tz = np.dot(X.T, w) + b\n",
    "\ta = sigmoid(z)\n",
    "\tdz = a - Y\n",
    "\tdw = np.dot(X, dz)/X.shape[1]\n",
    "\tdb = np.sum(dz)/X.shape[1]\n",
    "\n",
    "    grads = {\"dw\": dw,\n",
    "\t\t\t\"db\": db}\n",
    "\treturn grads"
   ]
  },
  {
   "cell_type": "markdown",
   "metadata": {},
   "source": [
    "<b><i>Optimization function</i></b>"
   ]
  },
  {
   "cell_type": "code",
   "execution_count": 13,
   "metadata": {},
   "outputs": [],
   "source": [
    "def optimize(w, b, X, Y, num_iterations, learning_rate):\n",
    "\n",
    "\tfor i in range(num_iterations):\n",
    "\n",
    "\t\tgrads = propagate(w, b, X, Y)\n",
    "\t\tdw = grads[\"dw\"]\n",
    "\t\tdb = grads[\"db\"]\n",
    "\t\tw = w - learning_rate*dw\n",
    "\t\tb = b - learning_rate*db\n",
    "\t\tif i%10 == 0:\n",
    "\t\t\tprint(\"iteration \", i, \" completed.\")\n",
    "\tparams = {\"w\": w,\n",
    "\t\t\t\t\"b\": b}\n",
    "\tgrads = {\"dw\": dw,\n",
    "\t\t\t\t\"db\":db}\n",
    "\treturn params, grads"
   ]
  },
  {
   "cell_type": "code",
   "execution_count": 14,
   "metadata": {},
   "outputs": [
    {
     "name": "stdout",
     "output_type": "stream",
     "text": [
      "iteration  0  completed.\n",
      "iteration  10  completed.\n",
      "iteration  20  completed.\n",
      "iteration  30  completed.\n",
      "iteration  40  completed.\n",
      "iteration  50  completed.\n",
      "iteration  60  completed.\n",
      "iteration  70  completed.\n",
      "iteration  80  completed.\n",
      "iteration  90  completed.\n"
     ]
    }
   ],
   "source": [
    "params, grads = optimize(w, b, X, Y, num_iterations= 100, learning_rate = 0.009)"
   ]
  },
  {
   "cell_type": "markdown",
   "metadata": {},
   "source": [
    "<b><i>Prediction on test data</i></b>"
   ]
  },
  {
   "cell_type": "code",
   "execution_count": 15,
   "metadata": {},
   "outputs": [],
   "source": [
    "def predict(w, b, X, Y):\n",
    "\tz = np.dot(X.T, w) + b\n",
    "\ta = sigmoid(z)\n",
    "\tfor i in range(a.shape[0]):\n",
    "\t\tif a[i, 0] < 0.5:\n",
    "\t\t\ta[i, 0] = np.array([0])\n",
    "\t\telse:\n",
    "\t\t\ta[i, 0] = np.array([1])\n",
    "\treturn a\n"
   ]
  },
  {
   "cell_type": "code",
   "execution_count": 18,
   "metadata": {},
   "outputs": [],
   "source": [
    "w = params[\"w\"]\n",
    "b = params[\"b\"]\n",
    "pred_Y = predict(w, b, X_test, Y_test)"
   ]
  },
  {
   "cell_type": "code",
   "execution_count": 19,
   "metadata": {},
   "outputs": [
    {
     "name": "stdout",
     "output_type": "stream",
     "text": [
      "Test Accuracy:  0.5677\n"
     ]
    }
   ],
   "source": [
    "print(\"Test Accuracy: \",accuracy_score(Y_test, pred_Y))"
   ]
  },
  {
   "cell_type": "code",
   "execution_count": 21,
   "metadata": {},
   "outputs": [],
   "source": [
    "pred_Y = predict(w, b, X, Y)"
   ]
  },
  {
   "cell_type": "code",
   "execution_count": 23,
   "metadata": {},
   "outputs": [
    {
     "name": "stdout",
     "output_type": "stream",
     "text": [
      "Train Accuracy:  0.5734\n"
     ]
    }
   ],
   "source": [
    "print(\"Train Accuracy: \",accuracy_score(Y, pred_Y))"
   ]
  },
  {
   "cell_type": "markdown",
   "metadata": {},
   "source": [
    " <h3 style = \"color:red\">Note: </h3><b><i>This neural network model uses only one layer i.e. output layer with one sigmoid unit just to predict 0/1. This model is trained on just 15000 train images and tested on 9000 test images.</i><b>"
   ]
  },
  {
   "cell_type": "code",
   "execution_count": null,
   "metadata": {},
   "outputs": [],
   "source": []
  }
 ],
 "metadata": {
  "kernelspec": {
   "display_name": "Python 3",
   "language": "python",
   "name": "python3"
  },
  "language_info": {
   "codemirror_mode": {
    "name": "ipython",
    "version": 3
   },
   "file_extension": ".py",
   "mimetype": "text/x-python",
   "name": "python",
   "nbconvert_exporter": "python",
   "pygments_lexer": "ipython3",
   "version": "3.5.0"
  }
 },
 "nbformat": 4,
 "nbformat_minor": 2
}
