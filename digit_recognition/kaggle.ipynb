{
 "cells": [
  {
   "cell_type": "markdown",
   "metadata": {},
   "source": [
    "# Welcome to Digit recognization problem from Kaggle"
   ]
  },
  {
   "cell_type": "code",
   "execution_count": 1,
   "metadata": {},
   "outputs": [
    {
     "name": "stderr",
     "output_type": "stream",
     "text": [
      "Using TensorFlow backend.\n"
     ]
    }
   ],
   "source": [
    "import numpy as np\n",
    "import pandas as pd\n",
    "import tensorflow as tf\n",
    "from keras import layers\n",
    "from keras.layers import Input, Dense, Activation, ZeroPadding2D, BatchNormalization, Flatten, Conv2D\n",
    "from keras.layers import AveragePooling2D, MaxPooling2D, Dropout, GlobalMaxPooling2D, GlobalAveragePooling2D\n",
    "from keras.models import Model\n",
    "from keras.preprocessing import image\n",
    "from keras.utils import layer_utils\n",
    "from keras.utils.data_utils import get_file\n",
    "from keras.applications.imagenet_utils import preprocess_input\n",
    "import pydot\n",
    "from IPython.display import SVG\n",
    "from keras.utils.vis_utils import model_to_dot\n",
    "from keras.utils import plot_model\n",
    "from tf_utils import *"
   ]
  },
  {
   "cell_type": "code",
   "execution_count": 2,
   "metadata": {},
   "outputs": [],
   "source": [
    "train_data = pd.read_csv('./train.csv')\n",
    "test_data = pd.read_csv('./test.csv')"
   ]
  },
  {
   "cell_type": "code",
   "execution_count": 3,
   "metadata": {},
   "outputs": [
    {
     "data": {
      "text/plain": [
       "(42000,)"
      ]
     },
     "execution_count": 3,
     "metadata": {},
     "output_type": "execute_result"
    }
   ],
   "source": [
    "features = np.array(train_data.iloc[:, 1:785])\n",
    "labels = np.array(train_data.iloc[:, 0])\n",
    "test_data = np.array(test_data)\n",
    "labels.shape"
   ]
  },
  {
   "cell_type": "code",
   "execution_count": 4,
   "metadata": {},
   "outputs": [],
   "source": [
    "def one_hot_matrix(labels, C):\n",
    "    C = tf.constant(C, name = \"C\")\n",
    "    \n",
    "    one_hot_matrix = tf.one_hot(indices = labels , depth = C, axis = 0 )\n",
    "    \n",
    "    sess = tf.Session()\n",
    "    one_hot = sess.run(one_hot_matrix)\n",
    "    sess.close()\n",
    "        \n",
    "    return one_hot"
   ]
  },
  {
   "cell_type": "code",
   "execution_count": 5,
   "metadata": {},
   "outputs": [],
   "source": [
    "labels = one_hot_matrix(labels, C = 10).T"
   ]
  },
  {
   "cell_type": "code",
   "execution_count": 6,
   "metadata": {},
   "outputs": [
    {
     "name": "stdout",
     "output_type": "stream",
     "text": [
      "(42000, 784)\n",
      "(42000, 10)\n"
     ]
    }
   ],
   "source": [
    "print(features.shape)\n",
    "print(labels.shape)"
   ]
  },
  {
   "cell_type": "code",
   "execution_count": 7,
   "metadata": {},
   "outputs": [
    {
     "name": "stdout",
     "output_type": "stream",
     "text": [
      "(42000, 28, 28, 1)\n",
      "(28000, 28, 28, 1)\n"
     ]
    }
   ],
   "source": [
    "features = features.reshape(42000, 28, 28, 1)\n",
    "test_data = test_data.reshape(test_data.shape[0], 28, 28, 1)\n",
    "print(features.shape)\n",
    "print(test_data.shape)"
   ]
  },
  {
   "cell_type": "code",
   "execution_count": 8,
   "metadata": {},
   "outputs": [],
   "source": [
    "X_train = features[:35000,:,:,:]\n",
    "Y_train = labels[:35000,:]\n",
    "X_test = features[35000:,:,:,:]\n",
    "Y_test = labels[35000:,:]"
   ]
  },
  {
   "cell_type": "code",
   "execution_count": 9,
   "metadata": {},
   "outputs": [],
   "source": [
    "def digit_recognizer_model(input_shape):\n",
    "    \n",
    "    X_input = Input(input_shape)\n",
    "    X = ZeroPadding2D((2,2))(X_input)\n",
    "    X = Conv2D(6, (5, 5), strides = 1, name='conv0')(X)\n",
    "    X = Activation('relu')(X)\n",
    "    \n",
    "    X = AveragePooling2D((2,2), strides = 2, name = 'max_pool0')(X)\n",
    "    \n",
    "    X = Conv2D(16, (5, 5), strides = 1, name='conv1')(X)\n",
    "    X = Activation('relu')(X)\n",
    "    \n",
    "    X = AveragePooling2D((2,2), strides = 2, name = 'max_pool1')(X)\n",
    "    X = Flatten()(X)\n",
    "    \n",
    "    X = Dense(120, activation = 'relu', name = 'fc0')(X)\n",
    "    X = Dense(84, activation = 'relu', name ='fc1')(X)\n",
    "    X = Dense(10, activation = 'softmax', name = 'softmax')(X)\n",
    "    \n",
    "    model = Model(inputs = X_input, outputs = X, name = \"digit_reconizer\")\n",
    "    \n",
    "    return model\n",
    "    "
   ]
  },
  {
   "cell_type": "code",
   "execution_count": 10,
   "metadata": {},
   "outputs": [],
   "source": [
    "model = digit_recognizer_model((features.shape[1], features.shape[2], features.shape[3]))"
   ]
  },
  {
   "cell_type": "code",
   "execution_count": 11,
   "metadata": {},
   "outputs": [],
   "source": [
    "model.compile(optimizer = 'adam', loss ='categorical_crossentropy', metrics = ['accuracy'])"
   ]
  },
  {
   "cell_type": "code",
   "execution_count": 16,
   "metadata": {},
   "outputs": [
    {
     "name": "stdout",
     "output_type": "stream",
     "text": [
      "Epoch 1/10\n",
      "42000/42000 [==============================] - 46s 1ms/step - loss: 0.0364 - acc: 0.9890\n",
      "Epoch 2/10\n",
      "42000/42000 [==============================] - 41s 967us/step - loss: 0.0260 - acc: 0.9921\n",
      "Epoch 3/10\n",
      "42000/42000 [==============================] - 42s 1ms/step - loss: 0.0247 - acc: 0.9924\n",
      "Epoch 4/10\n",
      "42000/42000 [==============================] - 42s 1ms/step - loss: 0.0193 - acc: 0.9941\n",
      "Epoch 5/10\n",
      "42000/42000 [==============================] - 45s 1ms/step - loss: 0.0165 - acc: 0.9943\n",
      "Epoch 6/10\n",
      "42000/42000 [==============================] - 44s 1ms/step - loss: 0.0156 - acc: 0.9948\n",
      "Epoch 7/10\n",
      "42000/42000 [==============================] - 44s 1ms/step - loss: 0.0141 - acc: 0.9952\n",
      "Epoch 8/10\n",
      "42000/42000 [==============================] - 42s 1ms/step - loss: 0.0161 - acc: 0.9944\n",
      "Epoch 9/10\n",
      "42000/42000 [==============================] - 43s 1ms/step - loss: 0.0111 - acc: 0.9961\n",
      "Epoch 10/10\n",
      "42000/42000 [==============================] - 44s 1ms/step - loss: 0.0157 - acc: 0.9947\n"
     ]
    },
    {
     "data": {
      "text/plain": [
       "<keras.callbacks.History at 0xa781aa5ba8>"
      ]
     },
     "execution_count": 16,
     "metadata": {},
     "output_type": "execute_result"
    }
   ],
   "source": [
    "model.fit(x = features, y = labels, epochs = 10, batch_size = 200)"
   ]
  },
  {
   "cell_type": "code",
   "execution_count": 21,
   "metadata": {},
   "outputs": [
    {
     "name": "stdout",
     "output_type": "stream",
     "text": [
      "7000/7000 [==============================] - 4s 614us/step\n"
     ]
    }
   ],
   "source": [
    "pred = model.evaluate(x = X_test, y = Y_test)"
   ]
  },
  {
   "cell_type": "code",
   "execution_count": 22,
   "metadata": {},
   "outputs": [
    {
     "name": "stdout",
     "output_type": "stream",
     "text": [
      "Accuracy:  0.9931428571428571\n"
     ]
    }
   ],
   "source": [
    "print(\"Accuracy: \", pred[1])"
   ]
  },
  {
   "cell_type": "code",
   "execution_count": 29,
   "metadata": {},
   "outputs": [],
   "source": [
    "prediction = model.predict(test_data)"
   ]
  },
  {
   "cell_type": "code",
   "execution_count": 30,
   "metadata": {},
   "outputs": [
    {
     "name": "stdout",
     "output_type": "stream",
     "text": [
      "(28000, 10)\n"
     ]
    }
   ],
   "source": [
    "print(prediction.shape)"
   ]
  },
  {
   "cell_type": "code",
   "execution_count": 31,
   "metadata": {},
   "outputs": [],
   "source": [
    "def max_arg(one_hot):\n",
    "    \n",
    "    arg_max = tf.argmax(one_hot, axis = 1)\n",
    "    \n",
    "    sess = tf.Session()\n",
    "    arg_max = sess.run(arg_max)\n",
    "    sess.close()\n",
    "        \n",
    "    return arg_max"
   ]
  },
  {
   "cell_type": "code",
   "execution_count": 39,
   "metadata": {},
   "outputs": [
    {
     "name": "stdout",
     "output_type": "stream",
     "text": [
      "(1, 28000)\n"
     ]
    },
    {
     "data": {
      "text/plain": [
       "array([[2, 0, 9, ..., 3, 9, 2]], dtype=int64)"
      ]
     },
     "execution_count": 39,
     "metadata": {},
     "output_type": "execute_result"
    }
   ],
   "source": [
    "predict = max_arg(prediction).reshape(1,-1)\n",
    "print(predict.shape)\n",
    "predict"
   ]
  },
  {
   "cell_type": "code",
   "execution_count": 38,
   "metadata": {},
   "outputs": [
    {
     "data": {
      "text/plain": [
       "28000"
      ]
     },
     "execution_count": 38,
     "metadata": {},
     "output_type": "execute_result"
    }
   ],
   "source": [
    "image_id = [i for i in range(1,28001)]\n"
   ]
  },
  {
   "cell_type": "code",
   "execution_count": 41,
   "metadata": {},
   "outputs": [],
   "source": [
    "label = []\n",
    "for i in range(28000):\n",
    "    label.append(predict[0][i])"
   ]
  },
  {
   "cell_type": "code",
   "execution_count": 44,
   "metadata": {},
   "outputs": [],
   "source": [
    "data = {\"ImageId\": image_id, \"Label\": label}\n",
    "data = pd.DataFrame(data)\n",
    "data.to_csv('prediction.csv')"
   ]
  },
  {
   "cell_type": "code",
   "execution_count": 49,
   "metadata": {},
   "outputs": [
    {
     "data": {
      "image/png": "[encoded data removed]",
      "text/plain": [
       "<Figure size 432x288 with 12 Axes>"
      ]
     },
     "metadata": {
      "needs_background": "light"
     },
     "output_type": "display_data"
    }
   ],
   "source": [
    "import scipy\n",
    "from PIL import Image\n",
    "from scipy import ndimage\n",
    "import matplotlib.pyplot as plt\n",
    "#my_image = X_test[:,5].reshape((-1,1))\n",
    "\n",
    "fig=plt.figure()\n",
    "\n",
    "for num,data in enumerate(test_data[:12,:,:,:]):\n",
    "    # cat: [1,0]\n",
    "    # dog: [0,1]\n",
    "    img_data = data.reshape(28, 28)\n",
    "    \n",
    "    y = fig.add_subplot(3,4,num+1)\n",
    "    img_prediction = predict[0][num]\n",
    "    \n",
    "    y.imshow(img_data)\n",
    "    \n",
    "    plt.title(img_prediction)\n",
    "    y.axes.get_xaxis().set_visible(False)\n",
    "    y.axes.get_yaxis().set_visible(False)\n",
    "plt.show()\n"
   ]
  },
  {
   "cell_type": "markdown",
   "metadata": {},
   "source": [
    "<h2 style=\"color:red\">Result:</h2><b><i>Got 98.23% accuracy.</i></b>"
   ]
  },
  {
   "cell_type": "code",
   "execution_count": null,
   "metadata": {},
   "outputs": [],
   "source": []
  }
 ],
 "metadata": {
  "kernelspec": {
   "display_name": "Python 3",
   "language": "python",
   "name": "python3"
  },
  "language_info": {
   "codemirror_mode": {
    "name": "ipython",
    "version": 3
   },
   "file_extension": ".py",
   "mimetype": "text/x-python",
   "name": "python",
   "nbconvert_exporter": "python",
   "pygments_lexer": "ipython3",
   "version": "3.5.0"
  }
 },
 "nbformat": 4,
 "nbformat_minor": 2
}
